{
  "nbformat": 4,
  "nbformat_minor": 0,
  "metadata": {
    "colab": {
      "provenance": []
    },
    "kernelspec": {
      "name": "python3",
      "display_name": "Python 3"
    },
    "language_info": {
      "name": "python"
    }
  },
  "cells": [
    {
      "cell_type": "code",
      "execution_count": 12,
      "metadata": {
        "colab": {
          "base_uri": "https://localhost:8080/"
        },
        "id": "LPICTbWwIULm",
        "outputId": "597002e7-fab2-4454-bf55-89c5db59dfb0"
      },
      "outputs": [
        {
          "output_type": "stream",
          "name": "stdout",
          "text": [
            "accuracy 1.0\n"
          ]
        }
      ],
      "source": [
        "from sklearn.tree import DecisionTreeClassifier\n",
        "from sklearn.model_selection import train_test_split\n",
        "from sklearn.metrics import accuracy_score\n",
        "from sklearn.datasets import load_iris\n",
        "\n",
        "\n",
        "#load the data\n",
        "iris = load_iris()\n",
        "X,y=load_iris(return_X_y=True)\n",
        "\n",
        "\n",
        "#Splitting\n",
        "X_train,X_test,y_train,y_test=train_test_split(X,y,test_size=0.2,random_state=42)\n",
        "\n",
        "\n",
        "\n",
        "#train the model\n",
        "model=DecisionTreeClassifier(criterion='gini',max_depth=3,random_state=42)\n",
        "model.fit(X_train,y_train)\n",
        "\n",
        "#prediction\n",
        "y_pred=model.predict(X_test)\n",
        "\n",
        "\n",
        "print(\"accuracy\",accuracy_score(y_test,y_pred))\n",
        "\n"
      ]
    },
    {
      "cell_type": "code",
      "source": [],
      "metadata": {
        "id": "zaBM0PKVJASS"
      },
      "execution_count": 2,
      "outputs": []
    },
    {
      "cell_type": "code",
      "source": [],
      "metadata": {
        "id": "Sxp5tLoeJJZn"
      },
      "execution_count": 3,
      "outputs": []
    },
    {
      "cell_type": "code",
      "source": [],
      "metadata": {
        "id": "YnHeGRpjJJcV"
      },
      "execution_count": 12,
      "outputs": []
    },
    {
      "cell_type": "code",
      "source": [],
      "metadata": {
        "id": "oYaMO3g5JJe8"
      },
      "execution_count": 6,
      "outputs": []
    },
    {
      "cell_type": "code",
      "source": [],
      "metadata": {
        "id": "tWPLbtNVJJhP"
      },
      "execution_count": 12,
      "outputs": []
    }
  ]
}